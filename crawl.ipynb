{
 "cells": [
  {
   "cell_type": "code",
   "execution_count": 47,
   "metadata": {},
   "outputs": [],
   "source": [
    "import os\n",
    "import requests\n",
    "from selenium import webdriver\n",
    "from selenium.webdriver.chrome.service import Service\n",
    "from selenium.webdriver.common.by import By\n",
    "from selenium.webdriver.support.ui import WebDriverWait\n",
    "from selenium.webdriver.support import expected_conditions as EC\n",
    "\n"
   ]
  },
  {
   "cell_type": "markdown",
   "metadata": {},
   "source": [
    "# Function"
   ]
  },
  {
   "cell_type": "code",
   "execution_count": 48,
   "metadata": {},
   "outputs": [],
   "source": [
    "\n",
    "# Function to create directory if it doesn't exist\n",
    "def create_directory(path):\n",
    "    if not os.path.exists(path):\n",
    "        os.makedirs(path)"
   ]
  },
  {
   "cell_type": "code",
   "execution_count": null,
   "metadata": {},
   "outputs": [],
   "source": [
    "# Function to download and save image\n",
    "def download_image(url, path):\n",
    "    response = requests.get(url)\n",
    "    with open(path, 'wb') as file:\n",
    "        file.write(response.content)"
   ]
  },
  {
   "cell_type": "code",
   "execution_count": 56,
   "metadata": {},
   "outputs": [],
   "source": [
    "# Function to download and save image\n",
    "def download_image(url, path):\n",
    "    response = requests.get(url)\n",
    "    with open(path, 'wb') as file:\n",
    "        file.write(response.content)\n"
   ]
  },
  {
   "cell_type": "markdown",
   "metadata": {},
   "source": [
    "# Test chromedriver"
   ]
  },
  {
   "cell_type": "code",
   "execution_count": 54,
   "metadata": {},
   "outputs": [],
   "source": [
    "from selenium import webdriver\n",
    "\n",
    "browser = webdriver.Chrome()\n",
    "browser.get('https://www.lulin.ncu.edu.tw/weather/allSkyHistory/')"
   ]
  },
  {
   "cell_type": "markdown",
   "metadata": {},
   "source": [
    "# Formal Crawling"
   ]
  },
  {
   "cell_type": "code",
   "execution_count": 1,
   "metadata": {},
   "outputs": [],
   "source": [
    "# Open the URL\n",
    "url = \"https://www.lulin.ncu.edu.tw/weather/allSkyHistory/\"\n",
    "browser.get(url)\n",
    "\n",
    "# Wait for the page to fully render and load the links\n",
    "wait = WebDriverWait(browser, 10)\n",
    "wait.until(EC.presence_of_all_elements_located((By.TAG_NAME, 'a')))\n",
    "\n",
    "# Get all links to subpages (dates)\n",
    "date_links = browser.find_elements(By.XPATH, \"//a[contains(@href, 'allSkyHistory')]\")\n",
    "date_urls = [link.get_attribute('href') for link in date_links]\n",
    "\n",
    "# print(date_urls)\n"
   ]
  },
  {
   "cell_type": "code",
   "execution_count": 60,
   "metadata": {},
   "outputs": [],
   "source": [
    "# Iterate through each date URL\n",
    "for date_url in date_urls:\n",
    "    browser.get(date_url)\n",
    "    wait.until(EC.presence_of_all_elements_located((By.TAG_NAME, 'a')))\n",
    "    \n",
    "    # Get all time links on the page\n",
    "    time_links = browser.find_elements(By.XPATH, \"//a[contains(@href, 'AllSky') and contains(@href, '.jpg')]\") \n",
    "    time_urls = [link.get_attribute('href') for link in time_links]\n",
    "\n",
    "    # Extract the date from the URL\n",
    "    date = date_url.split('/')[-1]\n",
    "    \n",
    "    # Create directory path for the date\n",
    "    directory_path = f'./{date}'\n",
    "    create_directory(directory_path)\n",
    "    \n",
    "    for time_url in time_urls:\n",
    "        # Extract the time from the URL\n",
    "        time_str = time_url.split('/')[-1].split('__')[1]\n",
    "        \n",
    "        # Define image path\n",
    "        image_path = f'{directory_path}/{time_str}'\n",
    "        \n",
    "        # Download and save the image\n",
    "        download_image(time_url, image_path)\n",
    "        \n",
    "        print(f'Downloaded {time_url} to {image_path}')\n"
   ]
  },
  {
   "cell_type": "markdown",
   "metadata": {},
   "source": []
  }
 ],
 "metadata": {
  "kernelspec": {
   "display_name": "base",
   "language": "python",
   "name": "python3"
  },
  "language_info": {
   "codemirror_mode": {
    "name": "ipython",
    "version": 3
   },
   "file_extension": ".py",
   "mimetype": "text/x-python",
   "name": "python",
   "nbconvert_exporter": "python",
   "pygments_lexer": "ipython3",
   "version": "3.12.4"
  }
 },
 "nbformat": 4,
 "nbformat_minor": 2
}
